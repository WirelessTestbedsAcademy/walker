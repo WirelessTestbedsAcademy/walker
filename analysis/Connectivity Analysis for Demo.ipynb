{
 "cells": [
  {
   "cell_type": "code",
   "execution_count": 1,
   "metadata": {},
   "outputs": [],
   "source": [
    "# Global imports\n",
    "%matplotlib inline\n",
    "%load_ext autoreload\n",
    "%autoreload 2\n",
    "from matplotlib import rc\n",
    "import matplotlib.pyplot as plt\n",
    "import seaborn as sns\n",
    "import pandas as pd\n",
    "import numpy as np\n",
    "import analysis as an\n",
    "from pathlib import Path\n",
    "\n",
    "project_folder = Path(an.__file__).parent.parent.resolve()\n",
    "\n",
    "# plt.style.use('seaborn')\n",
    "sns.set_context('paper', font_scale=2)\n",
    "sns.set_style('whitegrid')\n",
    "sns.set_color_codes('deep')\n",
    "# rc('font', **{'family': 'serif', 'serif': ['Computer Modern']})\n",
    "rc('text', usetex=True)"
   ]
  },
  {
   "cell_type": "markdown",
   "metadata": {},
   "source": [
    "# Connectivity Analysis\n",
    "\n",
    "## Data loading"
   ]
  },
  {
   "cell_type": "code",
   "execution_count": 2,
   "metadata": {},
   "outputs": [
    {
     "name": "stdout",
     "output_type": "stream",
     "text": [
      "Storing results in: /home/chwalisz/Code/twist/experiments/walker/results\n",
      "Available data paths:\n"
     ]
    },
    {
     "data": {
      "text/plain": [
       "[PosixPath('/home/chwalisz/Code/twist/experiments/walker/data/2018-01-17-144113'),\n",
       " PosixPath('/home/chwalisz/Code/twist/experiments/walker/data/2018-01-17-192523'),\n",
       " PosixPath('/home/chwalisz/Code/twist/experiments/walker/data/2019-03-13-154819'),\n",
       " PosixPath('/home/chwalisz/Code/twist/experiments/walker/data/2019-03-14-105308'),\n",
       " PosixPath('/home/chwalisz/Code/twist/experiments/walker/data/outdated')]"
      ]
     },
     "execution_count": 2,
     "metadata": {},
     "output_type": "execute_result"
    }
   ],
   "source": [
    "data_folder = project_folder / 'data'\n",
    "results_folder = project_folder / 'results'\n",
    "results_folder.mkdir(exist_ok=True)\n",
    "print(f'Storing results in: {results_folder}')\n",
    "print('Available data paths:')\n",
    "[x for x in sorted(data_folder.iterdir())]\n"
   ]
  },
  {
   "cell_type": "code",
   "execution_count": 3,
   "metadata": {},
   "outputs": [
    {
     "name": "stdout",
     "output_type": "stream",
     "text": [
      "/home/chwalisz/Code/twist/experiments/walker/data/2019-03-13-154819\n",
      "/home/chwalisz/Code/twist/experiments/walker/data/2019-03-14-105308\n"
     ]
    },
    {
     "data": {
      "text/html": [
       "<div>\n",
       "<style scoped>\n",
       "    .dataframe tbody tr th:only-of-type {\n",
       "        vertical-align: middle;\n",
       "    }\n",
       "\n",
       "    .dataframe tbody tr th {\n",
       "        vertical-align: top;\n",
       "    }\n",
       "\n",
       "    .dataframe thead th {\n",
       "        text-align: right;\n",
       "    }\n",
       "</style>\n",
       "<table border=\"1\" class=\"dataframe\">\n",
       "  <thead>\n",
       "    <tr style=\"text-align: right;\">\n",
       "      <th></th>\n",
       "      <th>Throughput [Mbps]</th>\n",
       "      <th>bytes</th>\n",
       "      <th>end</th>\n",
       "      <th>jitter ms</th>\n",
       "      <th>lost packets</th>\n",
       "      <th>lost percent</th>\n",
       "      <th>omitted</th>\n",
       "      <th>packets</th>\n",
       "      <th>seconds</th>\n",
       "      <th>socket</th>\n",
       "      <th>start</th>\n",
       "      <th>Client</th>\n",
       "      <th>Access Point</th>\n",
       "      <th>Kernel</th>\n",
       "      <th>Timestamp</th>\n",
       "      <th>System Info</th>\n",
       "      <th>Protocol</th>\n",
       "      <th>Connection</th>\n",
       "      <th>file</th>\n",
       "    </tr>\n",
       "  </thead>\n",
       "  <tbody>\n",
       "    <tr>\n",
       "      <th>0</th>\n",
       "      <td>39240600.0</td>\n",
       "      <td>4907008</td>\n",
       "      <td>1.00039</td>\n",
       "      <td>2.10162</td>\n",
       "      <td>0</td>\n",
       "      <td>0.0</td>\n",
       "      <td>False</td>\n",
       "      <td>599</td>\n",
       "      <td>1.000390</td>\n",
       "      <td>4</td>\n",
       "      <td>0.00000</td>\n",
       "      <td>giga1</td>\n",
       "      <td>giga2</td>\n",
       "      <td>3.18.87-031887-generic</td>\n",
       "      <td>Wed, 13 Mar 2019 14:49:50 GMT</td>\n",
       "      <td>Linux giga1 3.18.87-031887-generic #2017120918...</td>\n",
       "      <td>UDP</td>\n",
       "      <td>giga1\\ngiga2</td>\n",
       "      <td>giga2-giga1</td>\n",
       "    </tr>\n",
       "    <tr>\n",
       "      <th>1</th>\n",
       "      <td>44833700.0</td>\n",
       "      <td>5603328</td>\n",
       "      <td>2.00024</td>\n",
       "      <td>1.63781</td>\n",
       "      <td>0</td>\n",
       "      <td>0.0</td>\n",
       "      <td>False</td>\n",
       "      <td>684</td>\n",
       "      <td>0.999842</td>\n",
       "      <td>4</td>\n",
       "      <td>1.00039</td>\n",
       "      <td>giga1</td>\n",
       "      <td>giga2</td>\n",
       "      <td>3.18.87-031887-generic</td>\n",
       "      <td>Wed, 13 Mar 2019 14:49:50 GMT</td>\n",
       "      <td>Linux giga1 3.18.87-031887-generic #2017120918...</td>\n",
       "      <td>UDP</td>\n",
       "      <td>giga1\\ngiga2</td>\n",
       "      <td>giga2-giga1</td>\n",
       "    </tr>\n",
       "    <tr>\n",
       "      <th>2</th>\n",
       "      <td>48032600.0</td>\n",
       "      <td>6004736</td>\n",
       "      <td>3.00035</td>\n",
       "      <td>1.68845</td>\n",
       "      <td>0</td>\n",
       "      <td>0.0</td>\n",
       "      <td>False</td>\n",
       "      <td>733</td>\n",
       "      <td>1.000110</td>\n",
       "      <td>4</td>\n",
       "      <td>2.00024</td>\n",
       "      <td>giga1</td>\n",
       "      <td>giga2</td>\n",
       "      <td>3.18.87-031887-generic</td>\n",
       "      <td>Wed, 13 Mar 2019 14:49:50 GMT</td>\n",
       "      <td>Linux giga1 3.18.87-031887-generic #2017120918...</td>\n",
       "      <td>UDP</td>\n",
       "      <td>giga1\\ngiga2</td>\n",
       "      <td>giga2-giga1</td>\n",
       "    </tr>\n",
       "    <tr>\n",
       "      <th>3</th>\n",
       "      <td>52039300.0</td>\n",
       "      <td>6504448</td>\n",
       "      <td>4.00028</td>\n",
       "      <td>1.61450</td>\n",
       "      <td>0</td>\n",
       "      <td>0.0</td>\n",
       "      <td>False</td>\n",
       "      <td>794</td>\n",
       "      <td>0.999928</td>\n",
       "      <td>4</td>\n",
       "      <td>3.00035</td>\n",
       "      <td>giga1</td>\n",
       "      <td>giga2</td>\n",
       "      <td>3.18.87-031887-generic</td>\n",
       "      <td>Wed, 13 Mar 2019 14:49:50 GMT</td>\n",
       "      <td>Linux giga1 3.18.87-031887-generic #2017120918...</td>\n",
       "      <td>UDP</td>\n",
       "      <td>giga1\\ngiga2</td>\n",
       "      <td>giga2-giga1</td>\n",
       "    </tr>\n",
       "    <tr>\n",
       "      <th>4</th>\n",
       "      <td>54383600.0</td>\n",
       "      <td>6799360</td>\n",
       "      <td>5.00048</td>\n",
       "      <td>1.44712</td>\n",
       "      <td>0</td>\n",
       "      <td>0.0</td>\n",
       "      <td>False</td>\n",
       "      <td>830</td>\n",
       "      <td>1.000210</td>\n",
       "      <td>4</td>\n",
       "      <td>4.00028</td>\n",
       "      <td>giga1</td>\n",
       "      <td>giga2</td>\n",
       "      <td>3.18.87-031887-generic</td>\n",
       "      <td>Wed, 13 Mar 2019 14:49:50 GMT</td>\n",
       "      <td>Linux giga1 3.18.87-031887-generic #2017120918...</td>\n",
       "      <td>UDP</td>\n",
       "      <td>giga1\\ngiga2</td>\n",
       "      <td>giga2-giga1</td>\n",
       "    </tr>\n",
       "  </tbody>\n",
       "</table>\n",
       "</div>"
      ],
      "text/plain": [
       "   Throughput [Mbps]    bytes      end  jitter ms  lost packets  lost percent  \\\n",
       "0         39240600.0  4907008  1.00039    2.10162             0           0.0   \n",
       "1         44833700.0  5603328  2.00024    1.63781             0           0.0   \n",
       "2         48032600.0  6004736  3.00035    1.68845             0           0.0   \n",
       "3         52039300.0  6504448  4.00028    1.61450             0           0.0   \n",
       "4         54383600.0  6799360  5.00048    1.44712             0           0.0   \n",
       "\n",
       "   omitted  packets   seconds  socket    start Client Access Point  \\\n",
       "0    False      599  1.000390       4  0.00000  giga1        giga2   \n",
       "1    False      684  0.999842       4  1.00039  giga1        giga2   \n",
       "2    False      733  1.000110       4  2.00024  giga1        giga2   \n",
       "3    False      794  0.999928       4  3.00035  giga1        giga2   \n",
       "4    False      830  1.000210       4  4.00028  giga1        giga2   \n",
       "\n",
       "                   Kernel                      Timestamp  \\\n",
       "0  3.18.87-031887-generic  Wed, 13 Mar 2019 14:49:50 GMT   \n",
       "1  3.18.87-031887-generic  Wed, 13 Mar 2019 14:49:50 GMT   \n",
       "2  3.18.87-031887-generic  Wed, 13 Mar 2019 14:49:50 GMT   \n",
       "3  3.18.87-031887-generic  Wed, 13 Mar 2019 14:49:50 GMT   \n",
       "4  3.18.87-031887-generic  Wed, 13 Mar 2019 14:49:50 GMT   \n",
       "\n",
       "                                         System Info Protocol    Connection  \\\n",
       "0  Linux giga1 3.18.87-031887-generic #2017120918...      UDP  giga1\\ngiga2   \n",
       "1  Linux giga1 3.18.87-031887-generic #2017120918...      UDP  giga1\\ngiga2   \n",
       "2  Linux giga1 3.18.87-031887-generic #2017120918...      UDP  giga1\\ngiga2   \n",
       "3  Linux giga1 3.18.87-031887-generic #2017120918...      UDP  giga1\\ngiga2   \n",
       "4  Linux giga1 3.18.87-031887-generic #2017120918...      UDP  giga1\\ngiga2   \n",
       "\n",
       "          file  \n",
       "0  giga2-giga1  \n",
       "1  giga2-giga1  \n",
       "2  giga2-giga1  \n",
       "3  giga2-giga1  \n",
       "4  giga2-giga1  "
      ]
     },
     "execution_count": 3,
     "metadata": {},
     "output_type": "execute_result"
    }
   ],
   "source": [
    "df_list = []\n",
    "for data_path in data_folder.iterdir():\n",
    "    if not data_path.stem.startswith(\"2019-03\"):\n",
    "        continue\n",
    "    print(data_path)\n",
    "    df_list.append(an.get_iperf_folder(data_path, recursive=True))\n",
    "    \n",
    "df = pd.concat(df_list)\n",
    "\n",
    "df.head()"
   ]
  },
  {
   "cell_type": "markdown",
   "metadata": {},
   "source": [
    "## Throughput analysis"
   ]
  },
  {
   "cell_type": "code",
   "execution_count": 4,
   "metadata": {},
   "outputs": [
    {
     "data": {
      "text/html": [
       "<div>\n",
       "<style scoped>\n",
       "    .dataframe tbody tr th:only-of-type {\n",
       "        vertical-align: middle;\n",
       "    }\n",
       "\n",
       "    .dataframe tbody tr th {\n",
       "        vertical-align: top;\n",
       "    }\n",
       "\n",
       "    .dataframe thead th {\n",
       "        text-align: right;\n",
       "    }\n",
       "</style>\n",
       "<table border=\"1\" class=\"dataframe\">\n",
       "  <thead>\n",
       "    <tr style=\"text-align: right;\">\n",
       "      <th></th>\n",
       "      <th></th>\n",
       "      <th></th>\n",
       "      <th>count</th>\n",
       "      <th>mean</th>\n",
       "      <th>std</th>\n",
       "      <th>min</th>\n",
       "      <th>25%</th>\n",
       "      <th>50%</th>\n",
       "      <th>75%</th>\n",
       "      <th>max</th>\n",
       "    </tr>\n",
       "    <tr>\n",
       "      <th>Access Point</th>\n",
       "      <th>Client</th>\n",
       "      <th>Kernel</th>\n",
       "      <th></th>\n",
       "      <th></th>\n",
       "      <th></th>\n",
       "      <th></th>\n",
       "      <th></th>\n",
       "      <th></th>\n",
       "      <th></th>\n",
       "      <th></th>\n",
       "    </tr>\n",
       "  </thead>\n",
       "  <tbody>\n",
       "    <tr>\n",
       "      <th rowspan=\"2\" valign=\"top\">giga1</th>\n",
       "      <th rowspan=\"2\" valign=\"top\">giga2</th>\n",
       "      <th>3.18.87-031887-generic</th>\n",
       "      <td>60.0</td>\n",
       "      <td>3.800964e+07</td>\n",
       "      <td>2.837227e+06</td>\n",
       "      <td>31454200.0</td>\n",
       "      <td>36016675.0</td>\n",
       "      <td>38428850.0</td>\n",
       "      <td>39781550.0</td>\n",
       "      <td>43183800.0</td>\n",
       "    </tr>\n",
       "    <tr>\n",
       "      <th>4.14.5-041405-generic</th>\n",
       "      <td>60.0</td>\n",
       "      <td>7.585141e+07</td>\n",
       "      <td>5.625723e+06</td>\n",
       "      <td>59174600.0</td>\n",
       "      <td>71671825.0</td>\n",
       "      <td>76494850.0</td>\n",
       "      <td>80461425.0</td>\n",
       "      <td>84015200.0</td>\n",
       "    </tr>\n",
       "    <tr>\n",
       "      <th rowspan=\"2\" valign=\"top\">giga2</th>\n",
       "      <th rowspan=\"2\" valign=\"top\">giga1</th>\n",
       "      <th>3.18.87-031887-generic</th>\n",
       "      <td>60.0</td>\n",
       "      <td>5.016447e+07</td>\n",
       "      <td>2.968686e+06</td>\n",
       "      <td>39240600.0</td>\n",
       "      <td>48144650.0</td>\n",
       "      <td>50626850.0</td>\n",
       "      <td>52504400.0</td>\n",
       "      <td>54768800.0</td>\n",
       "    </tr>\n",
       "    <tr>\n",
       "      <th>4.14.5-041405-generic</th>\n",
       "      <td>60.0</td>\n",
       "      <td>6.785200e+07</td>\n",
       "      <td>2.640811e+06</td>\n",
       "      <td>57462300.0</td>\n",
       "      <td>66698350.0</td>\n",
       "      <td>68196500.0</td>\n",
       "      <td>69767525.0</td>\n",
       "      <td>72565000.0</td>\n",
       "    </tr>\n",
       "  </tbody>\n",
       "</table>\n",
       "</div>"
      ],
      "text/plain": [
       "                                            count          mean           std  \\\n",
       "Access Point Client Kernel                                                      \n",
       "giga1        giga2  3.18.87-031887-generic   60.0  3.800964e+07  2.837227e+06   \n",
       "                    4.14.5-041405-generic    60.0  7.585141e+07  5.625723e+06   \n",
       "giga2        giga1  3.18.87-031887-generic   60.0  5.016447e+07  2.968686e+06   \n",
       "                    4.14.5-041405-generic    60.0  6.785200e+07  2.640811e+06   \n",
       "\n",
       "                                                   min         25%  \\\n",
       "Access Point Client Kernel                                           \n",
       "giga1        giga2  3.18.87-031887-generic  31454200.0  36016675.0   \n",
       "                    4.14.5-041405-generic   59174600.0  71671825.0   \n",
       "giga2        giga1  3.18.87-031887-generic  39240600.0  48144650.0   \n",
       "                    4.14.5-041405-generic   57462300.0  66698350.0   \n",
       "\n",
       "                                                   50%         75%         max  \n",
       "Access Point Client Kernel                                                      \n",
       "giga1        giga2  3.18.87-031887-generic  38428850.0  39781550.0  43183800.0  \n",
       "                    4.14.5-041405-generic   76494850.0  80461425.0  84015200.0  \n",
       "giga2        giga1  3.18.87-031887-generic  50626850.0  52504400.0  54768800.0  \n",
       "                    4.14.5-041405-generic   68196500.0  69767525.0  72565000.0  "
      ]
     },
     "execution_count": 4,
     "metadata": {},
     "output_type": "execute_result"
    }
   ],
   "source": [
    "throughput = df.groupby(['Access Point', 'Client', 'Kernel'])['Throughput [Mbps]'].describe()\n",
    "throughput"
   ]
  },
  {
   "cell_type": "code",
   "execution_count": 5,
   "metadata": {},
   "outputs": [
    {
     "data": {
      "image/png": "[encoded data removed]",
      "text/plain": [
       "<Figure size 648x648 with 1 Axes>"
      ]
     },
     "metadata": {
      "needs_background": "light"
     },
     "output_type": "display_data"
    }
   ],
   "source": [
    "fig, ax = plt.subplots(figsize=(9,9))\n",
    "\n",
    "sns.boxplot(\n",
    "    x='Connection',\n",
    "    y='Throughput [Mbps]',\n",
    "    hue='Kernel',\n",
    "    data=df,\n",
    "    showfliers=True,\n",
    "    showmeans=True,\n",
    "    meanline=True,\n",
    "    order=list(df.groupby('Connection')['Throughput [Mbps]'].describe().sort_values('mean').index),\n",
    "    hue_order=sorted(df['Kernel'].unique()),\n",
    "#     split=True,\n",
    "#     cut=0,\n",
    ");\n",
    "ax.set_ylim([0, None])\n",
    "ax.yaxis.set_major_formatter(an.bitrate_formatter)\n",
    "plt.xticks(rotation=55)\n",
    "fig.savefig(str(results_folder / 'throughput_demo.pdf'), transparent=False, bbox_inches='tight')"
   ]
  },
  {
   "cell_type": "code",
   "execution_count": 6,
   "metadata": {},
   "outputs": [
    {
     "data": {
      "image/png": "[encoded data removed]",
      "text/plain": [
       "<Figure size 648x648 with 1 Axes>"
      ]
     },
     "metadata": {
      "needs_background": "light"
     },
     "output_type": "display_data"
    }
   ],
   "source": [
    "fig, ax = plt.subplots(figsize=(9,9))\n",
    "\n",
    "sns.violinplot(\n",
    "    y='Throughput [Mbps]',\n",
    "    x='Connection',\n",
    "    hue='Kernel',\n",
    "    data=df,\n",
    "    showfliers=False,\n",
    "#     split=True,\n",
    "    cut=0,\n",
    "    order=list(df.groupby('Connection')['Throughput [Mbps]'].describe().sort_values('mean').index),\n",
    "    hue_order=sorted(df['Kernel'].unique()),\n",
    ");\n",
    "ax.set_ylim([0, None])\n",
    "plt.xticks(rotation=55)\n",
    "ax.yaxis.set_major_formatter(an.bitrate_formatter)\n",
    "# ax.xaxis.set_major_formatter(an.bitrate_formatter)"
   ]
  },
  {
   "cell_type": "markdown",
   "metadata": {},
   "source": [
    "## Kernel comarison\n",
    "\n",
    "Looking at mean throughput"
   ]
  },
  {
   "cell_type": "code",
   "execution_count": 7,
   "metadata": {},
   "outputs": [
    {
     "data": {
      "text/html": [
       "<div>\n",
       "<style scoped>\n",
       "    .dataframe tbody tr th:only-of-type {\n",
       "        vertical-align: middle;\n",
       "    }\n",
       "\n",
       "    .dataframe tbody tr th {\n",
       "        vertical-align: top;\n",
       "    }\n",
       "\n",
       "    .dataframe thead th {\n",
       "        text-align: right;\n",
       "    }\n",
       "</style>\n",
       "<table border=\"1\" class=\"dataframe\">\n",
       "  <thead>\n",
       "    <tr style=\"text-align: right;\">\n",
       "      <th></th>\n",
       "      <th>Kernel</th>\n",
       "      <th>3.18.87-031887-generic</th>\n",
       "      <th>4.14.5-041405-generic</th>\n",
       "    </tr>\n",
       "    <tr>\n",
       "      <th>Access Point</th>\n",
       "      <th>Client</th>\n",
       "      <th></th>\n",
       "      <th></th>\n",
       "    </tr>\n",
       "  </thead>\n",
       "  <tbody>\n",
       "    <tr>\n",
       "      <th>giga1</th>\n",
       "      <th>giga2</th>\n",
       "      <td>3.800964e+07</td>\n",
       "      <td>7.585141e+07</td>\n",
       "    </tr>\n",
       "    <tr>\n",
       "      <th>giga2</th>\n",
       "      <th>giga1</th>\n",
       "      <td>5.016447e+07</td>\n",
       "      <td>6.785200e+07</td>\n",
       "    </tr>\n",
       "  </tbody>\n",
       "</table>\n",
       "</div>"
      ],
      "text/plain": [
       "Kernel               3.18.87-031887-generic  4.14.5-041405-generic\n",
       "Access Point Client                                               \n",
       "giga1        giga2             3.800964e+07           7.585141e+07\n",
       "giga2        giga1             5.016447e+07           6.785200e+07"
      ]
     },
     "execution_count": 7,
     "metadata": {},
     "output_type": "execute_result"
    }
   ],
   "source": [
    "kernels = pd.pivot_table(\n",
    "    throughput,\n",
    "    values='mean',\n",
    "    index=['Access Point', 'Client'],\n",
    "    columns='Kernel',\n",
    "#     aggfunc=np.mean,\n",
    ")\n",
    "kernel_comparison = kernels['4.14.5-041405-generic'] / kernels['3.18.87-031887-generic']\n",
    "kernels"
   ]
  },
  {
   "cell_type": "code",
   "execution_count": 8,
   "metadata": {},
   "outputs": [
    {
     "data": {
      "text/plain": [
       "count    2.000000\n",
       "mean     1.674087\n",
       "std      0.454665\n",
       "min      1.352591\n",
       "25%      1.513339\n",
       "50%      1.674087\n",
       "75%      1.834836\n",
       "max      1.995584\n",
       "dtype: float64"
      ]
     },
     "execution_count": 8,
     "metadata": {},
     "output_type": "execute_result"
    },
    {
     "data": {
      "image/png": "[encoded data removed]",
      "text/plain": [
       "<Figure size 432x288 with 1 Axes>"
      ]
     },
     "metadata": {
      "needs_background": "light"
     },
     "output_type": "display_data"
    }
   ],
   "source": [
    "sns.boxplot(kernel_comparison)\n",
    "kernel_comparison.describe()"
   ]
  },
  {
   "cell_type": "markdown",
   "metadata": {},
   "source": [
    "Looking and standard deviations"
   ]
  },
  {
   "cell_type": "code",
   "execution_count": 9,
   "metadata": {},
   "outputs": [
    {
     "data": {
      "text/plain": [
       "Access Point  Client\n",
       "giga1         giga2     1.982824\n",
       "giga2         giga1     0.889555\n",
       "dtype: float64"
      ]
     },
     "execution_count": 9,
     "metadata": {},
     "output_type": "execute_result"
    }
   ],
   "source": [
    "kernel_std = pd.pivot_table(\n",
    "    throughput,\n",
    "    values='std',\n",
    "    index=['Access Point', 'Client'],\n",
    "    columns='Kernel',\n",
    "#     aggfunc=np.mean,\n",
    ")\n",
    "kernel_std_comp = kernel_std['4.14.5-041405-generic'] / kernel_std['3.18.87-031887-generic']\n",
    "kernel_std_comp"
   ]
  },
  {
   "cell_type": "code",
   "execution_count": 10,
   "metadata": {},
   "outputs": [
    {
     "data": {
      "text/plain": [
       "count    2.000000\n",
       "mean     1.436190\n",
       "std      0.773058\n",
       "min      0.889555\n",
       "25%      1.162873\n",
       "50%      1.436190\n",
       "75%      1.709507\n",
       "max      1.982824\n",
       "dtype: float64"
      ]
     },
     "execution_count": 10,
     "metadata": {},
     "output_type": "execute_result"
    },
    {
     "data": {
      "image/png": "[encoded data removed]",
      "text/plain": [
       "<Figure size 432x288 with 1 Axes>"
      ]
     },
     "metadata": {
      "needs_background": "light"
     },
     "output_type": "display_data"
    }
   ],
   "source": [
    "sns.boxplot(kernel_std_comp)\n",
    "kernel_std_comp.describe()"
   ]
  },
  {
   "cell_type": "markdown",
   "metadata": {},
   "source": [
    "## Connection investigation"
   ]
  },
  {
   "cell_type": "code",
   "execution_count": 11,
   "metadata": {},
   "outputs": [
    {
     "data": {
      "text/html": [
       "<div>\n",
       "<style scoped>\n",
       "    .dataframe tbody tr th:only-of-type {\n",
       "        vertical-align: middle;\n",
       "    }\n",
       "\n",
       "    .dataframe tbody tr th {\n",
       "        vertical-align: top;\n",
       "    }\n",
       "\n",
       "    .dataframe thead th {\n",
       "        text-align: right;\n",
       "    }\n",
       "</style>\n",
       "<table border=\"1\" class=\"dataframe\">\n",
       "  <thead>\n",
       "    <tr style=\"text-align: right;\">\n",
       "      <th>Client</th>\n",
       "      <th>giga1</th>\n",
       "      <th>giga2</th>\n",
       "    </tr>\n",
       "    <tr>\n",
       "      <th>Access Point</th>\n",
       "      <th></th>\n",
       "      <th></th>\n",
       "    </tr>\n",
       "  </thead>\n",
       "  <tbody>\n",
       "    <tr>\n",
       "      <th>giga1</th>\n",
       "      <td>NaN</td>\n",
       "      <td>75.851412</td>\n",
       "    </tr>\n",
       "    <tr>\n",
       "      <th>giga2</th>\n",
       "      <td>67.852002</td>\n",
       "      <td>NaN</td>\n",
       "    </tr>\n",
       "  </tbody>\n",
       "</table>\n",
       "</div>"
      ],
      "text/plain": [
       "Client            giga1      giga2\n",
       "Access Point                      \n",
       "giga1               NaN  75.851412\n",
       "giga2         67.852002        NaN"
      ]
     },
     "execution_count": 11,
     "metadata": {},
     "output_type": "execute_result"
    }
   ],
   "source": [
    "connections = pd.pivot_table(\n",
    "    df[df['Kernel'] == '4.14.5-041405-generic'],\n",
    "    values='Throughput [Mbps]',\n",
    "    index='Access Point',\n",
    "    columns='Client',\n",
    "    aggfunc=np.mean,\n",
    ")\n",
    "connections = connections * 1e-6\n",
    "connections"
   ]
  },
  {
   "cell_type": "code",
   "execution_count": 12,
   "metadata": {},
   "outputs": [
    {
     "data": {
      "text/plain": [
       "<matplotlib.axes._subplots.AxesSubplot at 0x7f6d3cd87588>"
      ]
     },
     "execution_count": 12,
     "metadata": {},
     "output_type": "execute_result"
    },
    {
     "data": {
      "image/png": "[encoded data removed]",
      "text/plain": [
       "<Figure size 648x432 with 2 Axes>"
      ]
     },
     "metadata": {
      "needs_background": "light"
     },
     "output_type": "display_data"
    }
   ],
   "source": [
    "f, ax = plt.subplots(figsize=(9, 6))\n",
    "sns.heatmap(connections, annot=True, linewidths=.5, ax=ax)"
   ]
  },
  {
   "cell_type": "code",
   "execution_count": null,
   "metadata": {},
   "outputs": [],
   "source": []
  }
 ],
 "metadata": {
  "kernelspec": {
   "display_name": "Python 3",
   "language": "python",
   "name": "python3"
  },
  "language_info": {
   "codemirror_mode": {
    "name": "ipython",
    "version": 3
   },
   "file_extension": ".py",
   "mimetype": "text/x-python",
   "name": "python",
   "nbconvert_exporter": "python",
   "pygments_lexer": "ipython3",
   "version": "3.7.2"
  }
 },
 "nbformat": 4,
 "nbformat_minor": 2
}
