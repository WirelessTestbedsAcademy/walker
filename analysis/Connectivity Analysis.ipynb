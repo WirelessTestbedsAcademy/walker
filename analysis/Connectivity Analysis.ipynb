{
 "cells": [
  {
   "cell_type": "markdown",
   "metadata": {},
   "source": [
    "# Connectivity Analysis\n"
   ]
  },
  {
   "cell_type": "code",
   "execution_count": 7,
   "metadata": {},
   "outputs": [
    {
     "name": "stdout",
     "output_type": "stream",
     "text": [
      "The autoreload extension is already loaded. To reload it, use:\n",
      "  %reload_ext autoreload\n"
     ]
    }
   ],
   "source": [
    "%matplotlib inline\n",
    "%load_ext autoreload\n",
    "%autoreload 2\n",
    "from matplotlib import rc\n",
    "import matplotlib.pyplot as plt\n",
    "import seaborn as sns\n",
    "import pandas as pd\n",
    "import analysis as an"
   ]
  },
  {
   "cell_type": "code",
   "execution_count": 23,
   "metadata": {},
   "outputs": [
    {
     "name": "stdout",
     "output_type": "stream",
     "text": [
      "/home/chwalisz/Code/twist/experiments/wifi-channel/data/2017-12-11-155541/nuc4-nuc6.json\n",
      "/home/chwalisz/Code/twist/experiments/wifi-channel/data/2017-12-11-155541/nuc13-nuc12.json\n",
      "/home/chwalisz/Code/twist/experiments/wifi-channel/data/2017-12-11-155541/nuc11-nuc6.json\n",
      "/home/chwalisz/Code/twist/experiments/wifi-channel/data/2017-12-11-155541/nuc10-nuc12.json\n",
      "/home/chwalisz/Code/twist/experiments/wifi-channel/data/2017-12-11-155541/nuc11-nuc12.json\n",
      "/home/chwalisz/Code/twist/experiments/wifi-channel/data/2017-12-11-155541/nuc4-nuc11.json\n",
      "/home/chwalisz/Code/twist/experiments/wifi-channel/data/2017-12-11-155541/nuc11-nuc4.json\n",
      "/home/chwalisz/Code/twist/experiments/wifi-channel/data/2017-12-11-155541/nuc6-nuc4.json\n",
      "/home/chwalisz/Code/twist/experiments/wifi-channel/data/2017-12-11-155541/nuc10-nuc4.json\n",
      "/home/chwalisz/Code/twist/experiments/wifi-channel/data/2017-12-11-155541/nuc12-nuc11.json\n",
      "/home/chwalisz/Code/twist/experiments/wifi-channel/data/2017-12-11-155541/nuc13-nuc4.json\n",
      "/home/chwalisz/Code/twist/experiments/wifi-channel/data/2017-12-11-155541/nuc11-nuc10.json\n",
      "/home/chwalisz/Code/twist/experiments/wifi-channel/data/2017-12-11-155541/nuc10-nuc6.json\n",
      "/home/chwalisz/Code/twist/experiments/wifi-channel/data/2017-12-11-155541/nuc6-nuc11.json\n",
      "/home/chwalisz/Code/twist/experiments/wifi-channel/data/2017-12-11-155541/nuc13-nuc6.json\n",
      "/home/chwalisz/Code/twist/experiments/wifi-channel/data/2017-12-11-155541/nuc10-nuc13.json\n",
      "/home/chwalisz/Code/twist/experiments/wifi-channel/data/2017-12-11-155541/nuc4-nuc13.json\n",
      "/home/chwalisz/Code/twist/experiments/wifi-channel/data/2017-12-11-155541/nuc6-nuc10.json\n",
      "/home/chwalisz/Code/twist/experiments/wifi-channel/data/2017-12-11-155541/nuc4-nuc12.json\n",
      "/home/chwalisz/Code/twist/experiments/wifi-channel/data/2017-12-11-155541/nuc10-nuc11.json\n",
      "/home/chwalisz/Code/twist/experiments/wifi-channel/data/2017-12-11-155541/nuc4-nuc10.json\n",
      "/home/chwalisz/Code/twist/experiments/wifi-channel/data/2017-12-11-155541/nuc13-nuc10.json\n",
      "/home/chwalisz/Code/twist/experiments/wifi-channel/data/2017-12-11-155541/nuc12-nuc6.json\n",
      "/home/chwalisz/Code/twist/experiments/wifi-channel/data/2017-12-11-155541/nuc11-nuc13.json\n",
      "/home/chwalisz/Code/twist/experiments/wifi-channel/data/2017-12-11-155541/nuc12-nuc10.json\n",
      "/home/chwalisz/Code/twist/experiments/wifi-channel/data/2017-12-11-155541/nuc13-nuc11.json\n",
      "/home/chwalisz/Code/twist/experiments/wifi-channel/data/2017-12-11-155541/nuc6-nuc12.json\n",
      "/home/chwalisz/Code/twist/experiments/wifi-channel/data/2017-12-11-155541/nuc12-nuc4.json\n",
      "/home/chwalisz/Code/twist/experiments/wifi-channel/data/2017-12-11-155541/nuc6-nuc13.json\n"
     ]
    }
   ],
   "source": [
    "from pathlib import Path\n",
    "\n",
    "data_folder = Path.cwd() / '..' / 'data'\n",
    "data_folder = data_folder.resolve()\n",
    "# measurement_folder = data_folder / '2017-12-11-122231'\n",
    "measurement_folder = data_folder / '2017-12-11-155541'\n",
    "\n",
    "for data_file in measurement_folder.rglob('*.json'):\n",
    "    print(data_file)"
   ]
  },
  {
   "cell_type": "code",
   "execution_count": 24,
   "metadata": {},
   "outputs": [
    {
     "data": {
      "text/html": [
       "<div>\n",
       "<style scoped>\n",
       "    .dataframe tbody tr th:only-of-type {\n",
       "        vertical-align: middle;\n",
       "    }\n",
       "\n",
       "    .dataframe tbody tr th {\n",
       "        vertical-align: top;\n",
       "    }\n",
       "\n",
       "    .dataframe thead th {\n",
       "        text-align: right;\n",
       "    }\n",
       "</style>\n",
       "<table border=\"1\" class=\"dataframe\">\n",
       "  <thead>\n",
       "    <tr style=\"text-align: right;\">\n",
       "      <th></th>\n",
       "      <th>bits_per_second</th>\n",
       "      <th>bytes</th>\n",
       "      <th>start</th>\n",
       "      <th>packets</th>\n",
       "      <th>server_bits_per_second</th>\n",
       "      <th>server_bytes</th>\n",
       "      <th>server_start</th>\n",
       "      <th>server_packets</th>\n",
       "      <th>server_jitter_ms</th>\n",
       "      <th>server_lost_packets</th>\n",
       "      <th>cookie</th>\n",
       "      <th>timestamp</th>\n",
       "      <th>server</th>\n",
       "      <th>client</th>\n",
       "      <th>connection</th>\n",
       "      <th>mode</th>\n",
       "    </tr>\n",
       "  </thead>\n",
       "  <tbody>\n",
       "    <tr>\n",
       "      <th>0</th>\n",
       "      <td>31780600.0</td>\n",
       "      <td>3973120</td>\n",
       "      <td>0.00000</td>\n",
       "      <td>485</td>\n",
       "      <td>29880800</td>\n",
       "      <td>3735552</td>\n",
       "      <td>0.00000</td>\n",
       "      <td>456</td>\n",
       "      <td>2.21400</td>\n",
       "      <td>0</td>\n",
       "      <td>nuc6.1513004370.482048.1e7d1f461ef66</td>\n",
       "      <td>Mon, 11 Dec 2017 14:59:30 GMT</td>\n",
       "      <td>nuc10</td>\n",
       "      <td>nuc6</td>\n",
       "      <td>nuc10 nuc6</td>\n",
       "      <td>Access Point</td>\n",
       "    </tr>\n",
       "    <tr>\n",
       "      <th>1</th>\n",
       "      <td>36438000.0</td>\n",
       "      <td>4554752</td>\n",
       "      <td>1.00014</td>\n",
       "      <td>556</td>\n",
       "      <td>36242800</td>\n",
       "      <td>4530176</td>\n",
       "      <td>1.00012</td>\n",
       "      <td>553</td>\n",
       "      <td>2.56787</td>\n",
       "      <td>0</td>\n",
       "      <td>nuc6.1513004370.482048.1e7d1f461ef66</td>\n",
       "      <td>Mon, 11 Dec 2017 14:59:30 GMT</td>\n",
       "      <td>nuc10</td>\n",
       "      <td>nuc6</td>\n",
       "      <td>nuc10 nuc6</td>\n",
       "      <td>Access Point</td>\n",
       "    </tr>\n",
       "    <tr>\n",
       "      <th>2</th>\n",
       "      <td>32178100.0</td>\n",
       "      <td>4022272</td>\n",
       "      <td>2.00014</td>\n",
       "      <td>491</td>\n",
       "      <td>32307900</td>\n",
       "      <td>4038656</td>\n",
       "      <td>2.00008</td>\n",
       "      <td>493</td>\n",
       "      <td>2.44432</td>\n",
       "      <td>0</td>\n",
       "      <td>nuc6.1513004370.482048.1e7d1f461ef66</td>\n",
       "      <td>Mon, 11 Dec 2017 14:59:30 GMT</td>\n",
       "      <td>nuc10</td>\n",
       "      <td>nuc6</td>\n",
       "      <td>nuc10 nuc6</td>\n",
       "      <td>Access Point</td>\n",
       "    </tr>\n",
       "    <tr>\n",
       "      <th>3</th>\n",
       "      <td>34668400.0</td>\n",
       "      <td>4333568</td>\n",
       "      <td>3.00014</td>\n",
       "      <td>529</td>\n",
       "      <td>34735100</td>\n",
       "      <td>4341760</td>\n",
       "      <td>3.00013</td>\n",
       "      <td>530</td>\n",
       "      <td>2.60632</td>\n",
       "      <td>0</td>\n",
       "      <td>nuc6.1513004370.482048.1e7d1f461ef66</td>\n",
       "      <td>Mon, 11 Dec 2017 14:59:30 GMT</td>\n",
       "      <td>nuc10</td>\n",
       "      <td>nuc6</td>\n",
       "      <td>nuc10 nuc6</td>\n",
       "      <td>Access Point</td>\n",
       "    </tr>\n",
       "    <tr>\n",
       "      <th>4</th>\n",
       "      <td>32047200.0</td>\n",
       "      <td>4005888</td>\n",
       "      <td>4.00014</td>\n",
       "      <td>489</td>\n",
       "      <td>31916100</td>\n",
       "      <td>3989504</td>\n",
       "      <td>4.00010</td>\n",
       "      <td>487</td>\n",
       "      <td>2.55939</td>\n",
       "      <td>0</td>\n",
       "      <td>nuc6.1513004370.482048.1e7d1f461ef66</td>\n",
       "      <td>Mon, 11 Dec 2017 14:59:30 GMT</td>\n",
       "      <td>nuc10</td>\n",
       "      <td>nuc6</td>\n",
       "      <td>nuc10 nuc6</td>\n",
       "      <td>Access Point</td>\n",
       "    </tr>\n",
       "  </tbody>\n",
       "</table>\n",
       "</div>"
      ],
      "text/plain": [
       "   bits_per_second    bytes    start  packets  server_bits_per_second  \\\n",
       "0       31780600.0  3973120  0.00000      485                29880800   \n",
       "1       36438000.0  4554752  1.00014      556                36242800   \n",
       "2       32178100.0  4022272  2.00014      491                32307900   \n",
       "3       34668400.0  4333568  3.00014      529                34735100   \n",
       "4       32047200.0  4005888  4.00014      489                31916100   \n",
       "\n",
       "   server_bytes  server_start  server_packets  server_jitter_ms  \\\n",
       "0       3735552       0.00000             456           2.21400   \n",
       "1       4530176       1.00012             553           2.56787   \n",
       "2       4038656       2.00008             493           2.44432   \n",
       "3       4341760       3.00013             530           2.60632   \n",
       "4       3989504       4.00010             487           2.55939   \n",
       "\n",
       "   server_lost_packets                                cookie  \\\n",
       "0                    0  nuc6.1513004370.482048.1e7d1f461ef66   \n",
       "1                    0  nuc6.1513004370.482048.1e7d1f461ef66   \n",
       "2                    0  nuc6.1513004370.482048.1e7d1f461ef66   \n",
       "3                    0  nuc6.1513004370.482048.1e7d1f461ef66   \n",
       "4                    0  nuc6.1513004370.482048.1e7d1f461ef66   \n",
       "\n",
       "                       timestamp server client  connection          mode  \n",
       "0  Mon, 11 Dec 2017 14:59:30 GMT  nuc10   nuc6  nuc10 nuc6  Access Point  \n",
       "1  Mon, 11 Dec 2017 14:59:30 GMT  nuc10   nuc6  nuc10 nuc6  Access Point  \n",
       "2  Mon, 11 Dec 2017 14:59:30 GMT  nuc10   nuc6  nuc10 nuc6  Access Point  \n",
       "3  Mon, 11 Dec 2017 14:59:30 GMT  nuc10   nuc6  nuc10 nuc6  Access Point  \n",
       "4  Mon, 11 Dec 2017 14:59:30 GMT  nuc10   nuc6  nuc10 nuc6  Access Point  "
      ]
     },
     "execution_count": 24,
     "metadata": {},
     "output_type": "execute_result"
    }
   ],
   "source": [
    "dfl = []\n",
    "for fname in measurement_folder.rglob('*.json'):\n",
    "#     print(fname)\n",
    "    try:\n",
    "        df1 = an.get_iperf_data(fname)\n",
    "        dfl.append(df1)\n",
    "    except ValueError:\n",
    "        continue\n",
    "df = pd.concat(dfl)\n",
    "df.head()"
   ]
  },
  {
   "cell_type": "code",
   "execution_count": 25,
   "metadata": {},
   "outputs": [
    {
     "data": {
      "text/plain": [
       "<matplotlib.axes._subplots.AxesSubplot at 0x7f3fd2f8f198>"
      ]
     },
     "execution_count": 25,
     "metadata": {},
     "output_type": "execute_result"
    },
    {
     "data": {
      "image/png": "[encoded data removed]",
      "text/plain": [
       "<matplotlib.figure.Figure at 0x7f3fd2dde6a0>"
      ]
     },
     "metadata": {},
     "output_type": "display_data"
    }
   ],
   "source": [
    "sns.violinplot(x='bits_per_second', y='connection', hue='mode', data=df, split=True)"
   ]
  },
  {
   "cell_type": "code",
   "execution_count": null,
   "metadata": {},
   "outputs": [],
   "source": [
    "df.cookie.unique()"
   ]
  },
  {
   "cell_type": "code",
   "execution_count": null,
   "metadata": {},
   "outputs": [],
   "source": []
  }
 ],
 "metadata": {
  "kernelspec": {
   "display_name": "Python 3",
   "language": "python",
   "name": "python3"
  },
  "language_info": {
   "codemirror_mode": {
    "name": "ipython",
    "version": 3
   },
   "file_extension": ".py",
   "mimetype": "text/x-python",
   "name": "python",
   "nbconvert_exporter": "python",
   "pygments_lexer": "ipython3",
   "version": "3.6.3"
  }
 },
 "nbformat": 4,
 "nbformat_minor": 2
}
